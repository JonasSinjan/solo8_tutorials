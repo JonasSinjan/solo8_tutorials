{
 "cells": [
  {
   "cell_type": "markdown",
   "metadata": {
    "pycharm": {
     "name": "#%% md\n"
    }
   },
   "source": [
    "<a id='start'></a>\n",
    "\n",
    "# Solar Orbiter 8 Data Workshop Data Analysis Tutorial -- Get RPW Data"
   ]
  },
  {
   "cell_type": "markdown",
   "metadata": {
    "pycharm": {
     "name": "#%% md\n"
    }
   },
   "source": [
    "<a id='intro'></a>\n",
    "## Introduction\n",
    "\n",
    "This notebook presents two different ways to retrieve RPW data:\n",
    "* [Using SunPy](#sunpy)\n",
    "* [Using the SOAR Wep API](#soar-api)\n",
    "\n",
    "NOTES:\n",
    "\n",
    "* RPW data can also be downloaded using the [Solar Orbiter Archive (SOAR) Web site](http://soar.esac.esa.int/soar/) or from the [RPW Web portal at LESIA](https://rpw.lesia.obspm.fr/rpw-data/data-availability)\n",
    "* Running these the two methods below with default input arguments will download data required for the TDS and TNR data tutorials, namely:\n",
    "* solo_L2_tnr-surv_20211009 data\n",
    "* solo_L2_tds-surv-tswf-e_20211009 data"
   ]
  },
  {
   "cell_type": "markdown",
   "metadata": {
    "pycharm": {
     "name": "#%% md\n"
    }
   },
   "source": [
    "<a id='sunpy'></a>\n",
    "## Download RPW Data using SunPy\n",
    "\n",
    "[SunPy](https://sunpy.org/) provides a user-friendly interface for searching the SOAR for data files and downloading. Internally this makes calls to the SOAR Web API. Please see [sunpy-soar / Example usage](https://github.com/sunpy/sunpy-soar#example-usage) for more details of how to use SunPy with sunpy-soar.\n",
    "\n",
    "In the example below, we retrieve the latest version of solo_L2_tds-surv-tswf-e data for 2021-10-09.\n",
    "NOTE: the `Product()` method takes the Descriptor in upper case as argument."
   ]
  },
  {
   "cell_type": "code",
   "execution_count": 1,
   "metadata": {
    "pycharm": {
     "name": "#%%\n"
    }
   },
   "outputs": [
    {
     "data": {
      "text/html": [
       "Results from 1 Provider:</br></br>1 Results from the SOARClient:</br><div><i>QueryResponseTable length=1</i>\n",
       "<table id=\"table140188437679648\" class=\"table-striped table-bordered table-condensed\">\n",
       "<thead><tr><th>Instrument</th><th>Data product</th><th>Level</th><th>Start time</th><th>End time</th><th>Data item ID</th><th>Filename</th><th>Filesize</th></tr></thead>\n",
       "<thead><tr><th></th><th></th><th></th><th></th><th></th><th></th><th></th><th>Mbyte</th></tr></thead>\n",
       "<thead><tr><th>str3</th><th>str19</th><th>str2</th><th>str23</th><th>str23</th><th>str36</th><th>str44</th><th>float64</th></tr></thead>\n",
       "<tr><td>RPW</td><td>RPW-TDS-SURV-TSWF-E</td><td>L2</td><td>2021-10-09 00:00:00.000</td><td>2021-10-10 00:00:00.000</td><td>solo_L2_rpw-tds-surv-tswf-e_20211009</td><td>solo_L2_rpw-tds-surv-tswf-e_20211009_V01.cdf</td><td>106.66</td></tr>\n",
       "</table></div></br>"
      ],
      "text/plain": [
       "<sunpy.net.fido_factory.UnifiedResponse object at 0x7f8028571520>\n",
       "Results from 1 Provider:\n",
       "\n",
       "1 Results from the SOARClient:\n",
       "\n",
       "Instrument     Data product    Level        Start time               End time        Filesize\n",
       "                                                                                      Mbyte  \n",
       "---------- ------------------- ----- ----------------------- ----------------------- --------\n",
       "       RPW RPW-TDS-SURV-TSWF-E    L2 2021-10-09 00:00:00.000 2021-10-10 00:00:00.000   106.66\n"
      ]
     },
     "metadata": {},
     "output_type": "display_data"
    }
   ],
   "source": [
    "# (Adapted for RPW from https://github.com/SolarOrbiterWorkshop/solo8_tutorials/tree/main/MAG_tutorial)\n",
    "# Import external packages\n",
    "from sunpy.net import Fido\n",
    "import sunpy.net.attrs as a\n",
    "import sunpy_soar\n",
    "from IPython.display import display\n",
    "\n",
    "# Set input arguments to fetch for RPW data files\n",
    "instrument = a.Instrument('RPW')\n",
    "time = a.Time('2021-10-09', '2021-10-09')\n",
    "level = a.Level(2)\n",
    "product = a.soar.Product('RPW-TDS-SURV-TSWF-E')\n",
    "\n",
    "# Perform search for RPW data files\n",
    "result = Fido.search(instrument & time & level & product)\n",
    "display(result)"
   ]
  },
  {
   "cell_type": "code",
   "execution_count": 2,
   "metadata": {
    "pycharm": {
     "name": "#%%\n"
    }
   },
   "outputs": [
    {
     "data": {
      "application/vnd.jupyter.widget-view+json": {
       "model_id": "e5d8e1bf99134bca9a8619d00d943634",
       "version_major": 2,
       "version_minor": 0
      },
      "text/plain": [
       "Files Downloaded:   0%|          | 0/1 [00:00<?, ?file/s]"
      ]
     },
     "metadata": {},
     "output_type": "display_data"
    },
    {
     "data": {
      "application/vnd.jupyter.widget-view+json": {
       "model_id": "",
       "version_major": 2,
       "version_minor": 0
      },
      "text/plain": [
       "solo_L2_rpw-tds-surv-tswf-e_20211009_V01.cdf:   0%|          | 0.00/107M [00:00<?, ?B/s]"
      ]
     },
     "metadata": {},
     "output_type": "display_data"
    },
    {
     "data": {
      "text/plain": [
       "<parfive.results.Results object at 0x7f7ff8039f40>\n",
       "['Data/solo_L2_rpw-tds-surv-tswf-e_20211009_V01.cdf']"
      ]
     },
     "metadata": {},
     "output_type": "display_data"
    }
   ],
   "source": [
    "# Download files in /Data folder\n",
    "files = Fido.fetch(result, path='Data', overwrite=True, progress=True)\n",
    "display(files)"
   ]
  },
  {
   "cell_type": "markdown",
   "metadata": {
    "pycharm": {
     "name": "#%% md\n"
    }
   },
   "source": [
    "<a id='soar-api'></a>\n",
    "## Download RPW Data using the SOAR Web API\n",
    "\n",
    "The SOAR provides a Web API through which data files can be requested and downloaded. Any program that can normally make HTTP requests can be used access the SOAR through the Web API. Please see [Solar Orbiter Archive / Programmatic  Access / Data Requests](http://soar.esac.esa.int/soar/#aio) for more details.\n",
    "\n",
    "Here is an example of downloading the latest version of RPW data item `solo_L2_rpw-tnr-surv_20211009` using `wget`"
   ]
  },
  {
   "cell_type": "code",
   "execution_count": 3,
   "metadata": {
    "pycharm": {
     "name": "#%%\n"
    }
   },
   "outputs": [
    {
     "name": "stderr",
     "output_type": "stream",
     "text": [
      "--2022-09-16 12:16:41--  http://soar.esac.esa.int/soar-sl-tap/data?retrieval_type=LAST_PRODUCT&product_type=SCIENCE&data_item_id=solo_L2_rpw-tnr-surv_20211009\n",
      "Résolution de soar.esac.esa.int (soar.esac.esa.int)… 193.147.153.149\n",
      "Connexion à soar.esac.esa.int (soar.esac.esa.int)|193.147.153.149|:80… connecté.\n",
      "requête HTTP transmise, en attente de la réponse… 200 \n",
      "Taille : 234427923 (224M) [application/octet-stream]\n",
      "Sauvegarde en : « /Users/xbonnin/Work/Projects/SolarOrbiter/RPW/ROC/Software/Git/Tutorials/python-tnr-tds-tutorial/Data/solo_L2_rpw-tnr-surv_20211009_V02.cdf.2 »\n",
      "\n",
      "solo_L2_rpw-tnr-sur 100%[===================>] 223,57M  3,94MB/s    ds 57s     \n",
      "\n",
      "2022-09-16 12:17:38 (3,94 MB/s) — « /Users/xbonnin/Work/Projects/SolarOrbiter/RPW/ROC/Software/Git/Tutorials/python-tnr-tds-tutorial/Data/solo_L2_rpw-tnr-surv_20211009_V02.cdf.2 » sauvegardé [234427923/234427923]\n",
      "\n"
     ]
    },
    {
     "name": "stdout",
     "output_type": "stream",
     "text": [
      "Done\n"
     ]
    }
   ],
   "source": [
    "%%sh\n",
    "\n",
    "# (Adapted for RPW from https://github.com/SolarOrbiterWorkshop/solo8_tutorials/tree/main/MAG_tutorial)\n",
    "\n",
    "# Define the name of the data item we want to download\n",
    "DATA_ITEM=\"solo_L2_rpw-tnr-surv_20211009\"\n",
    "# Define the path of the directory where downloaded file will be saved\n",
    "DATA_DIR=\"${PWD}/Data\"\n",
    "\n",
    "# Create the directory where data will be downloaded if it doesn't exist\n",
    "mkdir -p \"${DATA_DIR}\"\n",
    "\n",
    "# Make a web request to receive the data product in this case using wget\n",
    "API_URL_TEMPLATE=\"http://soar.esac.esa.int/soar-sl-tap/data?retrieval_type=LAST_PRODUCT&product_type=SCIENCE&data_item_id=\"\n",
    "wget --content-disposition -P \"${DATA_DIR}\" \"${API_URL_TEMPLATE}${DATA_ITEM}\" --progress=bar:force:noscroll\n",
    "\n",
    "echo \"Done\""
   ]
  },
  {
   "cell_type": "markdown",
   "metadata": {
    "pycharm": {
     "name": "#%% md\n"
    }
   },
   "source": [
    "At the end of this notebook, if everything has worked well, you should find the following CDF files in your /Data folder:\n",
    "* solo_L2_rpw-tds-surv-tswf-e_20211009_V??.cdf\n",
    "* solo_L2_rpw-tnr-surv_20211009_V??.cdf"
   ]
  }
 ],
 "metadata": {
  "kernelspec": {
   "display_name": "rpw_tuto",
   "language": "python",
   "name": "rpw_tuto"
  },
  "language_info": {
   "codemirror_mode": {
    "name": "ipython",
    "version": 3
   },
   "file_extension": ".py",
   "mimetype": "text/x-python",
   "name": "python",
   "nbconvert_exporter": "python",
   "pygments_lexer": "ipython3",
   "version": "3.8.10"
  },
  "vscode": {
   "interpreter": {
    "hash": "9ad81fe34badb5e2be80a4ca790106515224afc2b6c8e600608751954489e13a"
   }
  }
 },
 "nbformat": 4,
 "nbformat_minor": 2
}
