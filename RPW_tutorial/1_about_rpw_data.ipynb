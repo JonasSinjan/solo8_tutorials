{
 "cells": [
  {
   "cell_type": "markdown",
   "metadata": {
    "pycharm": {
     "name": "#%% md\n"
    }
   },
   "source": [
    "<a id='start'></a>\n",
    "\n",
    "<div style='display:flex'>\n",
    "<div><img src=./Pictures/Logo_RPW_17x7cm300dpi.jpg width=25% align=\"left\"></div>\n",
    "<div><img src=./Pictures/SolarOrbiter.png width=25% align=\"right\"></div>\n",
    "</div>\n",
    "\n",
    "# Solar Orbiter 8 Data Workshop Data Analysis Tutorial -- About RPW\n",
    "\n",
    "## RPW instrument overview\n",
    "\n",
    "<br>\n",
    "<font size=\"3\">\n",
    "The Radio and Plasma Waves instrument (RPW) has to consist of a sophisticated plasma/radio wave receiver system connected to high sensitivity electric and magnetic sensors. Since the receiver system covers a very wide frequency range (quasi-DC to 20 MHz for electric, and 0.1 Hz to 1 MHz for magnetic), different kinds of sensors are used for the measurements. </font>\n",
    "<br>\n",
    "<br>\n",
    "<br>\n",
    "\n",
    "### RPW equipment and related types of data products\n",
    "\n",
    "<center>Figure 1. RPW equipment and related types of data products. (Courtesy of M.Maksimovic.)</center>\n",
    "<img src=./Pictures/Maksimovic_RPW_products.png  width=90% class=\"center\">\n",
    "<br>\n",
    "\n",
    "### RPW frequency domain\n",
    "\n",
    "<center>Figure 2. RPW frequency domain w.r.t. science phenomena (pink), sensors (blue) and receivers (green) frequency ranges.</center>\n",
    "<img src=./Pictures/rpw_freq_allocation.png width=90% class=\"center\">\n",
    "<br>\n",
    "\n",
    "### Science phenomena measured by RPW\n",
    "\n",
    "<center>Figure 3. Science phenomena measured by RPW as a function of frequency. (Courtesy of M.Maksimovic).</center>\n",
    "<img src=./Pictures/Maksimovic_RPW_fields.png width=90% class=\"center\">\n",
    "<br>\n",
    "\n",
    "### RPW/TDS block diagram\n",
    "\n",
    "<img src=./Pictures/solo_tds_block.png  width=90%>\n",
    "<br>\n",
    "\n",
    "### Spacecraft Reference Frame (SRF)\n",
    "\n",
    "<br>\n",
    "<img src=./Pictures/SRF.png  width=70%>\n",
    "<br>\n"
   ]
  },
  {
   "cell_type": "markdown",
   "metadata": {
    "pycharm": {
     "name": "#%% md\n"
    }
   },
   "source": [
    "## RPW data products overview\n",
    "\n",
    "### Introduction\n",
    "\n",
    "List of RPW data products can be found in https://confluence-lesia.obspm.fr/display/ROC/RPW+Data+Products.\n",
    "Each RPW data product has a filename convention of the form:\n",
    "\n",
    "```\n",
    "<Source_name>_<Level>_<Descriptor>_<Datetime>_V<Data_version>.<extension>\n",
    "```\n",
    "\n",
    "where:\n",
    "* `Source_name` is always `solo`\n",
    "* `Level` is the data processing level. It can be `{L0,L1,L2,L3}`.\n",
    "* `Descriptor` for each data product is lower case and starts with the prefix `rpw-<receiver>-<mode>` with `receiver` can be `lfr`, `tds`, `tnr`, `hfr` or `bia` and `mode` indicates the software mode (`surv` for normal/burst survey modes, `sbm1` or `sbm2` for SBM1 or SBM2 mode respectively. Optional suffixes - separated by minus hyphens - can be appended to the descriptor to specify the type of data (e.g., `cwf-e` for electrical continuous snapshot waveform).\n",
    "* `Datetime` is the date/time of the file. For RPW it can be a date (for daily files) or a time range (for SBM event files).\n",
    "* `Data_version` is the 2-digits version of the data file. It is incremented by one everytime a new version of a given file is released.\n",
    "* `extension` is `cdf` for all CDF format files (L1, L2, L3). `h5` for HDF5 format file (L0). `png` for PNG images (L3 summary plots only).\n",
    "\n",
    "NOTE: Each filename field can be retrieved from the CDF file's global attributes.\n",
    "\n",
    "For more details about Solar Orbiter data standards, see https://issues.cosmos.esa.int/solarorbiterwiki/display/SOSP/Metadata+Definition+for+Solar+Orbiter+Science+Data\n",
    "\n",
    "###  RPW L0 Data Products\n",
    "\n",
    "Every instrument telemetry (TM) packet data generated, for a given date are unpacked and stored in a daily RPW L0 file in HDF5 format.\n",
    "RPW L0 files also contain the list of executed command (TC) during the day.\n",
    "\n",
    "###  RPW L1 Data Products\n",
    "\n",
    "RPW L1 data contains uncalibrated science measurements, for a given day or a given in situ shock/plasma waves event detected on-board (SBM1/SBM2).\n",
    "RPW L1 data are saved in CDF format files.\n",
    "\n",
    "###  RPW L2 Data Products\n",
    "\n",
    "RPW L2 data contains calibrated science measurements, for a given day or a given in situ shock/plasma waves event detected on-board.\n",
    "RPW L2 data are saved in CDF format files.\n",
    "\n",
    "###  RPW L3 Data Products\n",
    "\n",
    "RPW L3 data contains added-value science data derived from L1/L2 measurements, for a given day or a given in situ shock/plasma waves event detected on-board.\n",
    "RPW L3 data are saved in CDF format files.\n",
    "\n",
    "###  RPW L3 summary Plots\n",
    "\n",
    "RPW L3 summary plots are saved in PNG format files.\n",
    "Summary plots are available from the RPW Web portal: https://rpw.lesia.obspm.fr/rpw-data/daily-summary-plots/\n"
   ]
  },
  {
   "cell_type": "markdown",
   "metadata": {
    "pycharm": {
     "name": "#%% md\n"
    }
   },
   "source": [
    "<a id='references'></a>\n",
    "## References\n",
    "\n",
    "* RPW Web portal: https://rpw.lesia.obspm.fr/\n",
    "* The Solar Orbiter Radio and Plasma Waves (RPW) instrument, Maksimovic et al., A&A, 2020 (https://doi.org/10.1051/0004-6361/201936214)\n",
    "* RPW data product description: https://issues.cosmos.esa.int/solarorbiterwiki/display/SOSP/Archive+Support+Data#ArchiveSupportData-RPWInstrument\n",
    "* Solar Orbiter Archive (SOAR): http://soar.esac.esa.int/soar/\n",
    "* CDF format homepage: https://cdf.gsfc.nasa.gov/\n",
    "* HDF5 format homepage: https://www.hdfgroup.org/solutions/hdf5/\n",
    "* About MASER project: https://maser.lesia.obspm.fr/?lang=en\n",
    "\n",
    "[Top of the page](#start)\n",
    "\n"
   ]
  },
  {
   "cell_type": "markdown",
   "metadata": {
    "pycharm": {
     "name": "#%% md\n"
    }
   },
   "source": []
  }
 ],
 "metadata": {
  "kernelspec": {
   "display_name": "rpw_tuto",
   "language": "python",
   "name": "rpw_tuto"
  },
  "language_info": {
   "codemirror_mode": {
    "name": "ipython",
    "version": 3
   },
   "file_extension": ".py",
   "mimetype": "text/x-python",
   "name": "python",
   "nbconvert_exporter": "python",
   "pygments_lexer": "ipython3",
   "version": "3.8.10"
  }
 },
 "nbformat": 4,
 "nbformat_minor": 1
}
