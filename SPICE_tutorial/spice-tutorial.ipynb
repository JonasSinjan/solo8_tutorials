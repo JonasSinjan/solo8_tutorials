{
 "cells": [
  {
   "cell_type": "markdown",
   "id": "prostate-evidence",
   "metadata": {},
   "source": [
    "# Solar Orbiter 8 SPICE tutorial, 2022-09-16\n",
    "\n",
    "[Éric Buchlin](mailto:eric.buchlin@universite-paris-saclay.fr).\n",
    "\n",
    "A preliminary [data analysis user's manual](https://spice-wiki.ias.u-psud.fr/doku.php/data:data_analysis_manual) is available on the SPICE wiki.\n",
    "This tutorial is based on Python, but IDL users can find IDL-specific information in this manual.\n",
    "\n",
    "\n",
    "## Pre-requisites\n",
    "\n",
    "* Up-to-date web browser\n",
    "* Python with a recent version of the following libraries installed:\n",
    "    * [sunpy](https://sunpy.org/).\n",
    "    * [astropy](https://www.astropy.org/) (should be installed automatically as a sunpy dependency)\n",
    "    * [sunpy-soar](https://github.com/dstansby/sunpy-soar)\n",
    "    * [sunraster](https://github.com/sunpy/sunraster)\n",
    "* A FITS file viewer: [SAOImageDS9](https://sites.google.com/cfa.harvard.edu/saoimageds9), [fv](https://heasarc.gsfc.nasa.gov/ftools/fv/)...\n",
    "\n",
    "These imports should work with no error:"
   ]
  },
  {
   "cell_type": "code",
   "execution_count": null,
   "id": "political-composition",
   "metadata": {},
   "outputs": [],
   "source": [
    "import numpy as np\n",
    "import matplotlib.pyplot as plt\n",
    "import pandas as pd\n",
    "import astropy.units as u\n",
    "import sunpy_soar\n",
    "from astropy.io import fits\n",
    "from sunpy.map import Map\n",
    "from sunpy.net import Fido, attrs as a\n",
    "from sunraster.instr.spice import read_spice_l2_fits\n",
    "\n",
    "%matplotlib notebook\n",
    "plt.rcParams[\"figure.figsize\"] = (9, 8)  # larger default figure size"
   ]
  },
  {
   "cell_type": "markdown",
   "id": "cd1b5f3c",
   "metadata": {},
   "source": [
    "## SPICE data products overview\n",
    "\n",
    "The data levels, FITS files, and headers are described in\n",
    "\n",
    "* The [Data Products Description Document](https://spice.ias.u-psud.fr/spice-data/documents/SPICE-UIO-DPDD-0002-1.4-Data_Product_Description_Document.pdf) (DPDD)\n",
    "* The LLDPDD for the Low-Latency (LL) files\n",
    "\n",
    "The data levels:\n",
    "\n",
    "* **L0**: Raw data\n",
    "* **L1**: Engineering data (uncalibrated)\n",
    "* **L2**: Science data (calibrated). This is the main data product you should use.\n",
    "* **L3** (does not exist yet) – Higher level data: maps of fitted line parameters and of physical quantitites, images, movies.\n",
    "\n",
    "A SPICE file name example is `solo_L2_spice-n-ras_20220302T181034_V04_100663690-000.fits`, where\n",
    "\n",
    "* `L2` is the level\n",
    "* `n-ras` is represents the product type:\n",
    "    * **n-ras**: a raster scan with one of the narrow slits (2\", 4\" or 6\")\n",
    "    * **w-ras**: a raster scan with the wide slit (30\")\n",
    "    * **n-sit**: a sit-and-stare study with one of the narrow slits\n",
    "    * **w-sit**: a sit-and-stare study with the wide slit\n",
    "    * **n-exp**: a single exposure with a narrow slit that yields the entire spectrum\n",
    "    * **w-exp**: a single exposure with the wide slit that yields the entire spectrum\n",
    "* `20220302T181034` represents `DATE-BEG` (observation start) in UTC\n",
    "* `V04` is the file version\n",
    "* `100663690` is the observation ID (`SPIOBSID`)\n",
    "* `000` is the index of the file (`RASTERNO`) for repeated observations within the same `SPIOBSID`:\n",
    "    * For \"ras\" data, a FITS file contains a single raster scan (repeated exposures). If the raster is repeated, then each repeat goes in a new file.\n",
    "    * For \"exp\" data, each exposure will end up in a different FITS file."
   ]
  },
  {
   "cell_type": "markdown",
   "id": "valid-public",
   "metadata": {},
   "source": [
    "## Find data\n"
   ]
  },
  {
   "cell_type": "markdown",
   "id": "continent-hands",
   "metadata": {},
   "source": [
    "### Using SOAR (web interface)\n",
    "\n",
    "The primary source for SPICE data, as for all Solar Orbiter data, is the [Solar Orbiter Archive](http://soar.esac.esa.int/) (SOAR) at ESA.\n",
    "\n",
    "SOAR provides a query form.\n",
    "\n",
    "![SOAR screenshot](./fig/screenshot-soar-01.png)\n",
    "\n",
    "SOAR has a TAP (Table Access Protocol) server (TAP is an IVOA protocol): click on the \"programmatic access\" icon in the left icon menu for details.\n",
    "This TAP interface is used by the `sunpy_soar` Python module (developed by David Stansby), which provides SOAR access to SunPy [Fido](https://docs.sunpy.org/en/stable/guide/acquiring_data/fido.html) (Federated Internet Data Obtainer)."
   ]
  },
  {
   "cell_type": "code",
   "execution_count": null,
   "id": "00a6af3b",
   "metadata": {},
   "outputs": [],
   "source": [
    "# Attributes allow us to specify the search parameters\n",
    "results_spice = Fido.search(\n",
    "    a.Time('2022-03-02T00:00', '2022-03-03T00:00'),\n",
    "    a.soar.Product('SPICE-N-RAS'), # same as displayed in SODA: https://www.davidstansby.com/soda/\n",
    "    a.Level(2)\n",
    "    )\n",
    "# Display tables of results\n",
    "results_spice"
   ]
  },
  {
   "cell_type": "markdown",
   "id": "south-assignment",
   "metadata": {},
   "source": [
    "### SPICE data releases\n",
    "\n",
    "All released data are included in the [data releases](https://spice.osups.universite-paris-saclay.fr/spice-data/). The latest release ([currently 2.0](https://spice.osups.universite-paris-saclay.fr/spice-data/release-2.0/release-notes.html)) contains the latest version of each file, and is regularly updated with newly-available files.\n",
    "\n",
    "The release used in a publication should be referenced as mentioned in the release notes (this also applies to data obtained from the SOAR), together with the whole SPICE dataset ([doi:10.5270/esa-lbmdy7c](https://doi.org/10.5270/esa-lbmdy7c)).\n",
    "\n",
    "Each release contains a CSV table of all files in the release, which can be used to find specific SPICE observations:"
   ]
  },
  {
   "cell_type": "code",
   "execution_count": null,
   "id": "d0658d36",
   "metadata": {},
   "outputs": [],
   "source": [
    "def date_parser(string):\n",
    "    try:\n",
    "        return pd.Timestamp(string)\n",
    "    except ValueError:\n",
    "         return pd.NaT\n",
    "\n",
    "date_columns = ['DATE-BEG','DATE', 'TIMAQUTC']\n",
    "cat = pd.read_csv(\n",
    "    'https://spice.osups.universite-paris-saclay.fr/spice-data/release-2.0/catalog.csv',\n",
    "    date_parser=date_parser,\n",
    "    parse_dates=date_columns\n",
    ")"
   ]
  },
  {
   "cell_type": "code",
   "execution_count": null,
   "id": "37a0ad0b",
   "metadata": {},
   "outputs": [],
   "source": [
    "# list of all columns\n",
    "', '.join(cat.columns)"
   ]
  },
  {
   "cell_type": "code",
   "execution_count": null,
   "id": "cf58995f",
   "metadata": {
    "scrolled": true
   },
   "outputs": [],
   "source": [
    "display_cols = ['NAXIS1', 'NAXIS2', 'NAXIS3', 'NAXIS4', 'LEVEL', 'FILENAME', 'DATE-BEG']\n",
    "cat[display_cols]"
   ]
  },
  {
   "cell_type": "code",
   "execution_count": null,
   "id": "64b9a0c1",
   "metadata": {
    "scrolled": true
   },
   "outputs": [],
   "source": [
    "# search according to some criteria\n",
    "spice_cat = cat[\n",
    "    (cat.LEVEL == 'L2') &\n",
    "    (cat['DATE-BEG'] > pd.Timestamp('2022-03-02T00:00')) &\n",
    "    (cat['DATE-BEG'] < pd.Timestamp('2022-03-03T00:00')) &\n",
    "    (cat.STUDYTYP == 'Raster')  # rasters\n",
    "]\n",
    "spice_cat[display_cols]"
   ]
  },
  {
   "cell_type": "markdown",
   "id": "949ebc80",
   "metadata": {},
   "source": [
    "## Download files from SOAR\n",
    "\n",
    "Taking the result of `Fido.search()` above, we can download them (here we select only the first file, from the first (and only) provider):"
   ]
  },
  {
   "cell_type": "code",
   "execution_count": null,
   "id": "2bf30355",
   "metadata": {},
   "outputs": [],
   "source": [
    "spice_files = Fido.fetch(results_spice[0][0], path=\"data/{file}\")\n",
    "# In case you have already downloaded the file before the tutorial\n",
    "# spice_files = ['data/solo_L2_spice-n-ras_20220302T181034_V04_100663690-000.fits']\n",
    "print(spice_files)"
   ]
  },
  {
   "cell_type": "markdown",
   "id": "1e18b644",
   "metadata": {},
   "source": [
    "## Open FITS files\n",
    "\n",
    "As SO remote-sensing instruments data files are regular FITS files, they can normally be opended using any FITS library, in any language. For example, here we open the downloaded SPICE file with [`astropy.io.fits`](https://docs.astropy.org/en/stable/io/fits/index.html):"
   ]
  },
  {
   "cell_type": "code",
   "execution_count": null,
   "id": "8fbff6cc",
   "metadata": {},
   "outputs": [],
   "source": [
    "hdulist = fits.open(spice_files[0])\n",
    "hdulist.info()"
   ]
  },
  {
   "cell_type": "code",
   "execution_count": null,
   "id": "e734a061",
   "metadata": {
    "scrolled": true
   },
   "outputs": [],
   "source": [
    "# Print first HDU (Header-Data Unit) header, including global and window-specific metadata:\n",
    "hdulist[0].header"
   ]
  },
  {
   "cell_type": "code",
   "execution_count": null,
   "id": "8e057ea9",
   "metadata": {},
   "outputs": [],
   "source": [
    "# And the corresponding data type and shape:\n",
    "data = hdulist[0].data\n",
    "type(data), data.shape\n"
   ]
  },
  {
   "cell_type": "markdown",
   "id": "a04d545a",
   "metadata": {},
   "source": [
    "These axes dimensions correspond the the `NAXIS*` metadata in reverse order:\n",
    "```\n",
    "NAXIS1  =                  192 / Number of slit positions (x)\n",
    "NAXIS2  =                  834 / Number of pixels along slit (y)\n",
    "NAXIS3  =                   80 / Number of pixels in dispersion dimension\n",
    "NAXIS4  =                    1 / Number of exposures per slit position (time)\n",
    "```\n",
    "\n",
    "So L2 files can be analysed using this FITS object, but as maps with the `Map` object of `sunpy.map`, it can be more convenient to use the `SpectrogramCube` object from [`sunraster`](https://docs.sunpy.org/projects/sunraster/en/latest/) (developed as a generalization of IRIS software, for any spectrogram data).\n",
    "\n",
    "`sunraster` includes a SPICE file reader:"
   ]
  },
  {
   "cell_type": "code",
   "execution_count": null,
   "id": "a6de7a5d",
   "metadata": {},
   "outputs": [],
   "source": [
    "from sunraster.instr.spice import read_spice_l2_fits\n",
    "raster = read_spice_l2_fits(spice_files[0])"
   ]
  },
  {
   "cell_type": "code",
   "execution_count": null,
   "id": "cc52cbcf",
   "metadata": {},
   "outputs": [],
   "source": [
    "raster"
   ]
  },
  {
   "cell_type": "markdown",
   "id": "77142589",
   "metadata": {},
   "source": [
    "Keys correspond to the names of the wavelength windows on the detector. \n",
    "\n",
    "In case of a full-detector (non-windowed) study, they are the names of the detectors, with SW for short-wavelength and LW for long-wavelength.\n",
    "\n",
    "One can select such a window:"
   ]
  },
  {
   "cell_type": "code",
   "execution_count": null,
   "id": "6dbc078c",
   "metadata": {},
   "outputs": [],
   "source": [
    "window = raster['Ne VIII 770 / Mg VIII 772 - SH']\n",
    "window"
   ]
  },
  {
   "cell_type": "markdown",
   "id": "a466867f",
   "metadata": {},
   "source": [
    "In this case, \"SH\" means \"short-wavelength half of the line\". This is because the maximum width of SPICE spectral windows is 32 pixels on the detector, and this is most of the times not enough (all the more that we try here to catch both Ne VIII 77.0nm and Mg VIII 77.2nm). Then several adjacent windows can be used, in this case they are labelled \"SH\" and \"LH\".\n",
    "\n",
    "However, both windows are merged in the L2 FITS files, so the content of 'Ne VIII 770 / Mg VIII 772 - SH' and 'Ne VIII 770 / Mg VIII 772 - LH' is actually the same."
   ]
  },
  {
   "cell_type": "code",
   "execution_count": null,
   "id": "aae15c53",
   "metadata": {},
   "outputs": [],
   "source": [
    "# As we have already seen, the 4 dimensions are (t, λ, y, x). This is the Python order, reversed from the FITS or IDL order.\n",
    "window.instrument_axes"
   ]
  },
  {
   "cell_type": "code",
   "execution_count": null,
   "id": "d2d77077",
   "metadata": {},
   "outputs": [],
   "source": [
    "# Coordinates are known in WCS (World Coordinate System)\n",
    "window.wcs"
   ]
  },
  {
   "cell_type": "code",
   "execution_count": null,
   "id": "ec809406",
   "metadata": {},
   "outputs": [],
   "source": [
    "# For better image value normalization\n",
    "from astropy.visualization import SqrtStretch, AsymmetricPercentileInterval, ImageNormalize\n",
    "norm = ImageNormalize(window.data,\n",
    "                      interval=AsymmetricPercentileInterval(1, 99),\n",
    "                      stretch=SqrtStretch()\n",
    "                     )"
   ]
  },
  {
   "cell_type": "code",
   "execution_count": null,
   "id": "0f637f53",
   "metadata": {
    "scrolled": false
   },
   "outputs": [],
   "source": [
    "# Show (x, y) cut in cube, at some λ that can be chosen by a slider\n",
    "# Please change λ, otherwise the map will stay blank (NaN / no data)\n",
    "# Note: an IDL quicklook tool exists, a Python tools are in development\n",
    "window.plot(norm=norm, aspect='auto')"
   ]
  },
  {
   "cell_type": "markdown",
   "id": "b1da66bf",
   "metadata": {},
   "source": [
    "The bright line at the top corresponds to the bright \"dumbbell\", a wider part of the slit, meant to help co-alignement with imaging data.\n",
    "\n",
    "The other horizontal lines are instrumental effects that should have been corrected."
   ]
  },
  {
   "cell_type": "code",
   "execution_count": null,
   "id": "0d28f8a5",
   "metadata": {},
   "outputs": [],
   "source": [
    "# select some central wavelength, giving a 2D (x, y) map\n",
    "window_peak = window[0, 12, :, :]"
   ]
  },
  {
   "cell_type": "code",
   "execution_count": null,
   "id": "d7101f42",
   "metadata": {},
   "outputs": [],
   "source": [
    "window_peak"
   ]
  },
  {
   "cell_type": "code",
   "execution_count": null,
   "id": "8e358ccb",
   "metadata": {},
   "outputs": [],
   "source": [
    "plt.figure()\n",
    "window_peak.plot(norm=norm, aspect='auto')"
   ]
  },
  {
   "cell_type": "code",
   "execution_count": null,
   "id": "d14fbf88",
   "metadata": {},
   "outputs": [],
   "source": [
    "# An alternative is to make a sunpy Map out of the data and metadata\n",
    "m_spice = Map((window_peak.data, window_peak.meta))\n",
    "m_spice.plot_settings['cmap'] = plt.get_cmap('viridis')\n",
    "m_spice.plot_settings['norm'] = norm"
   ]
  },
  {
   "cell_type": "code",
   "execution_count": null,
   "id": "7366eed3",
   "metadata": {},
   "outputs": [],
   "source": [
    "plt.figure()\n",
    "m_spice.plot(norm=norm, aspect=1/4)  # 1/4 because raster step is 4\", about 4 times the vertical pixel size \n",
    "plt.colorbar()\n",
    "plt.show()"
   ]
  },
  {
   "cell_type": "code",
   "execution_count": null,
   "id": "19e4be1c",
   "metadata": {},
   "outputs": [],
   "source": [
    "# Display the spectrum at some pixel\n",
    "plt.figure()\n",
    "window[0, :, 674, 60].plot()"
   ]
  },
  {
   "cell_type": "markdown",
   "id": "21142863",
   "metadata": {},
   "source": [
    "We won't dive into line fitting, but here are some libraries that can be used:\n",
    "\n",
    "* [`scipy.optimize`](https://docs.scipy.org/doc/scipy/reference/optimize.html)\n",
    "* [`astropy.modeling`](https://docs.astropy.org/en/stable/modeling/index.html)\n",
    "* Line fitting software adapted specifically to SPICE data is in development at GSFC. \n",
    "\n",
    "Then fitted models parameters can give line radiance, Doppler shift, line width... and allow separation of several lines, or blended lines.\n",
    "\n",
    "**There is currently still an issue with SPICE Doppler maps, please contact us before interpreting what you see in them**."
   ]
  },
  {
   "cell_type": "code",
   "execution_count": null,
   "id": "6a8b7434",
   "metadata": {
    "scrolled": false
   },
   "outputs": [],
   "source": [
    "# Select and display a raster position, giving a (y, λ) detector view (but with distortion already corrected)\n",
    "window_detector = window[0, :, :, 40]\n",
    "plt.figure()\n",
    "window_detector.plot(norm=norm, aspect='auto')"
   ]
  },
  {
   "cell_type": "markdown",
   "id": "2cfb3010",
   "metadata": {},
   "source": [
    "## Bonus: overplotting SPICE map on an EUI submap"
   ]
  },
  {
   "cell_type": "code",
   "execution_count": null,
   "id": "24ef999a",
   "metadata": {},
   "outputs": [],
   "source": [
    "# SPICE average raster time time\n",
    "from astropy.time import Time, TimeDelta\n",
    "t = raster['Ne VIII 770 / Mg VIII 772 - SH'].time\n",
    "t_av = Time(t.jd.mean(), format='jd', scale='utc')\n",
    "t_av.to_value('iso')"
   ]
  },
  {
   "cell_type": "code",
   "execution_count": null,
   "id": "french-interference",
   "metadata": {
    "scrolled": true
   },
   "outputs": [],
   "source": [
    "# Find corresponding FSI 17.4nm image\n",
    "delta_t = TimeDelta(20 * 60, format='sec')\n",
    "results_fsi = Fido.search(\n",
    "    a.Time(t_av - delta_t, t_av + delta_t),\n",
    "    a.soar.Product('EUI-FSI174-IMAGE'), # same as displayed in SODA\n",
    "    a.Level(2)\n",
    "    )\n",
    "# Display tables of results\n",
    "results_fsi"
   ]
  },
  {
   "cell_type": "code",
   "execution_count": null,
   "id": "undefined-clearing",
   "metadata": {},
   "outputs": [],
   "source": [
    "# Download first file (if not already done)\n",
    "fsi_files = Fido.fetch(results_fsi[0][0], path=\"data/{file}\")\n",
    "print(fsi_files)\n",
    "# In case you have already downloaded the file before the tutorial, you can replace the download by:\n",
    "# fsi_files = ['data/solo_L2_eui-fsi174-image_20220302T173017304_V01.fits']"
   ]
  },
  {
   "cell_type": "markdown",
   "id": "lesbian-newport",
   "metadata": {},
   "source": [
    "Plot the map:"
   ]
  },
  {
   "cell_type": "code",
   "execution_count": null,
   "id": "scheduled-honey",
   "metadata": {},
   "outputs": [],
   "source": [
    "# Plot a composite EUI/FSI + SPICE map\n",
    "from astropy.coordinates import SkyCoord\n",
    "\n",
    "m_fsi = Map(fsi_files[0])\n",
    "bottom_left = SkyCoord(-1000 * u.arcsec, -1500 * u.arcsec, frame=m_fsi.coordinate_frame)\n",
    "top_right = SkyCoord(500 * u.arcsec, 0 * u.arcsec, frame=m_fsi.coordinate_frame)\n",
    "sm_fsi = m_fsi.submap(bottom_left=bottom_left, top_right=top_right)"
   ]
  },
  {
   "cell_type": "code",
   "execution_count": null,
   "id": "front-portable",
   "metadata": {},
   "outputs": [],
   "source": [
    "# Using a CompositeMap\n",
    "comp_map = Map(sm_fsi, m_spice, composite=True)\n",
    "plt.figure()\n",
    "comp_map.plot()\n",
    "plt.show()\n",
    "\n",
    "# Simply plotting both maps with proper alignment\n",
    "#sm_fsi.plot()\n",
    "#m_spice.plot(autoalign=True)"
   ]
  }
 ],
 "metadata": {
  "kernelspec": {
   "display_name": "Python 3 (ipykernel)",
   "language": "python",
   "name": "python3"
  },
  "language_info": {
   "codemirror_mode": {
    "name": "ipython",
    "version": 3
   },
   "file_extension": ".py",
   "mimetype": "text/x-python",
   "name": "python",
   "nbconvert_exporter": "python",
   "pygments_lexer": "ipython3",
   "version": "3.10.4"
  }
 },
 "nbformat": 4,
 "nbformat_minor": 5
}
